{
 "cells": [
  {
   "cell_type": "markdown",
   "metadata": {},
   "source": [
    "# 人脸识别系统"
   ]
  },
  {
   "cell_type": "markdown",
   "metadata": {},
   "source": [
    "## 图片检测"
   ]
  },
  {
   "cell_type": "code",
   "execution_count": null,
   "metadata": {},
   "outputs": [],
   "source": [
    "#导入cv2库\n",
    "import cv2\n",
    "\n",
    "#读取图片\n",
    "img = cv2.imread('test.png')\n",
    "\n",
    "#显示图片\n",
    "cv2.imshow('image',img)\n",
    "\n",
    "#等待显示\n",
    "cv2.waitKey(0)\n",
    "#释放内存\n",
    "cv2.destroyAllWindows()"
   ]
  },
  {
   "cell_type": "markdown",
   "metadata": {},
   "source": [
    "## 灰度转换"
   ]
  },
  {
   "cell_type": "code",
   "execution_count": 5,
   "metadata": {},
   "outputs": [],
   "source": [
    "#导入cv2库\n",
    "import cv2\n",
    "\n",
    "#读取图片\n",
    "img = cv2.imread('test.png')\n",
    "\n",
    "#灰度转换\n",
    "gray_img = cv2.cvtColor(img,cv2.COLOR_BGR2GRAY)\n",
    "#显示灰度\n",
    "cv2.imshow('gray',gray_img)\n",
    "#保存灰度图片\n",
    "cv2.imwrite('gray.png',gray_img)\n",
    "\n",
    "#显示图片\n",
    "cv2.imshow('image',img)\n",
    "\n",
    "#等待显示\n",
    "cv2.waitKey(0)\n",
    "#释放内存\n",
    "cv2.destroyAllWindows()"
   ]
  },
  {
   "cell_type": "markdown",
   "metadata": {},
   "source": [
    "## 修改尺寸"
   ]
  },
  {
   "cell_type": "code",
   "execution_count": 7,
   "metadata": {},
   "outputs": [
    {
     "name": "stdout",
     "output_type": "stream",
     "text": [
      "原图尺寸: (657, 460, 3)\n",
      "修改后尺寸: (200, 200, 3)\n"
     ]
    }
   ],
   "source": [
    "#导入cv2库\n",
    "import cv2\n",
    "\n",
    "#读取图片\n",
    "img = cv2.imread('test.png')\n",
    "#修改尺寸\n",
    "resized_img = cv2.resize(img,(200,200))\n",
    "\n",
    "#显示原图\n",
    "cv2.imshow('image',img)\n",
    "print('原图尺寸:',img.shape)\n",
    "#显示修改后的图片\n",
    "cv2.imshow('resized image',resized_img)\n",
    "print('修改后尺寸:',resized_img.shape)\n",
    "\n",
    "#等待\n",
    "while True:\n",
    "    if cv2.waitKey(0) == ord('q'):\n",
    "        break\n",
    "\n",
    "#释放内存\n",
    "cv2.destroyAllWindows()"
   ]
  },
  {
   "cell_type": "markdown",
   "metadata": {},
   "source": [
    "## 绘制矩形"
   ]
  },
  {
   "cell_type": "code",
   "execution_count": 3,
   "metadata": {},
   "outputs": [],
   "source": [
    "#导入cv2库\n",
    "import cv2\n",
    "\n",
    "#读取图片\n",
    "img = cv2.imread('test.png')\n",
    "#坐标\n",
    "x, y, w, h = 100, 100, 200, 200\n",
    "#绘制矩形\n",
    "cv2.rectangle(img, (x, y), (x+w, y+h), (0, 255, 0), 2)\n",
    "#绘制圆形\n",
    "cv2.circle(img, (x+w//2, y+h//2), 100, (0, 0, 255), 1)\n",
    "#显示图片\n",
    "cv2.imshow('image', img)\n",
    "#等待\n",
    "while True:\n",
    "    if cv2.waitKey(0) == ord('q'):\n",
    "        break\n",
    "\n",
    "#释放内存\n",
    "cv2.destroyAllWindows()"
   ]
  },
  {
   "cell_type": "markdown",
   "metadata": {},
   "source": [
    "## 人脸检测"
   ]
  },
  {
   "cell_type": "code",
   "execution_count": 4,
   "metadata": {},
   "outputs": [
    {
     "name": "stdout",
     "output_type": "stream",
     "text": [
      "face detected\n"
     ]
    }
   ],
   "source": [
    "#导入cv2库\n",
    "import cv2\n",
    "\n",
    "#检测函数\n",
    "def detect(img):\n",
    "    #定义人脸识别分类器\n",
    "    face_cascade = cv2.CascadeClassifier('haarcascade_frontalface_default.xml')\n",
    "    #将图片灰度化\n",
    "    gray = cv2.cvtColor(img, cv2.COLOR_BGR2GRAY)\n",
    "    #识别人脸\n",
    "    faces = face_cascade.detectMultiScale(gray, 1.3, 5)\n",
    "    #返回识别结果\n",
    "    return faces\n",
    "    \n",
    "#读取图片\n",
    "img = cv2.imread('test.png')\n",
    "#检测人脸\n",
    "faces = detect(img)\n",
    "#绘制矩形框\n",
    "for (x, y, w, h) in faces:\n",
    "    cv2.rectangle(img, (x, y), (x+w, y+h), (255, 0, 0), 2)\n",
    "    #显示结果\n",
    "    print('face detected')\n",
    "#保存图片\n",
    "cv2.imwrite('result.png', img)\n",
    "#显示图片\n",
    "cv2.imshow('image', img)\n",
    "#等待\n",
    "while True:\n",
    "    if cv2.waitKey(0) == ord('q'):\n",
    "        break\n",
    "\n",
    "#释放内存\n",
    "cv2.destroyAllWindows()"
   ]
  },
  {
   "cell_type": "markdown",
   "metadata": {},
   "source": [
    "## 检测多个人脸"
   ]
  },
  {
   "cell_type": "code",
   "execution_count": null,
   "metadata": {},
   "outputs": [
    {
     "name": "stdout",
     "output_type": "stream",
     "text": [
      "faces: [[1427  328   56   56]\n",
      " [ 919  249   53   53]\n",
      " [1136  300   63   63]\n",
      " [ 274  281   57   57]\n",
      " [ 770  189   54   54]\n",
      " [ 500  198   54   54]\n",
      " [ 771  252   56   56]\n",
      " [ 590  259   62   62]\n",
      " [1064  261   54   54]\n",
      " [ 134  265   54   54]\n",
      " [ 424  263   58   58]\n",
      " [ 418  160   51   51]\n",
      " [1027  305   55   55]\n",
      " [1223  263   64   64]\n",
      " [ 867  304   64   64]\n",
      " [1309  309   58   58]\n",
      " [1379  161   55   55]\n",
      " [ 502  312   61   61]\n",
      " [ 186  317   53   53]\n",
      " [1368  269   59   59]\n",
      " [ 673  314   70   70]\n",
      " [ 338  320   63   63]\n",
      " [ 901  162   50   50]\n",
      " [1237  164   47   47]\n",
      " [1323  110   50   50]\n",
      " [1000  169   53   53]\n",
      " [ 635  170   55   55]\n",
      " [ 304  124   50   50]]\n"
     ]
    }
   ],
   "source": [
    "#导入cv2库\n",
    "import cv2\n",
    "\n",
    "#检测函数\n",
    "def detect(img):\n",
    "    #定义人脸识别分类器\n",
    "    face_cascade = cv2.CascadeClassifier('haarcascade_frontalface_default.xml')\n",
    "    #将图片灰度化\n",
    "    gray = cv2.cvtColor(img, cv2.COLOR_BGR2GRAY)\n",
    "    #识别人脸\n",
    "    faces = face_cascade.detectMultiScale(gray, scaleFactor=1.2, minNeighbors=5)\n",
    "    #返回识别结果\n",
    "    return faces\n",
    "    \n",
    "#读取图片\n",
    "img = cv2.imread('multi_face.png')\n",
    "#检测人脸\n",
    "faces = detect(img)\n",
    "print('faces:', faces)\n",
    "#绘制矩形框\n",
    "for (x, y, w, h) in faces:\n",
    "    cv2.rectangle(img, (x, y), (x+w, y+h), (255, 0, 0), 2)\n",
    "#保存图片\n",
    "cv2.imwrite('result.png', img)\n",
    "#显示图片\n",
    "cv2.imshow('image', img)\n",
    "#等待\n",
    "while True:\n",
    "    if cv2.waitKey(0) == ord('q'):\n",
    "        break\n",
    "\n",
    "#释放内存\n",
    "cv2.destroyAllWindows()"
   ]
  },
  {
   "cell_type": "code",
   "execution_count": null,
   "metadata": {},
   "outputs": [
    {
     "name": "stdout",
     "output_type": "stream",
     "text": [
      "face detected\n",
      "face detected\n"
     ]
    }
   ],
   "source": [
    "# 用dlib库进行人脸检测和特征提取\n",
    "import dlib\n",
    "import cv2\n",
    "\n",
    "# 加载 Dlib 的人脸检测模型\n",
    "detector = dlib.get_frontal_face_detector()\n",
    "\n",
    "# 读取图像\n",
    "img = cv2.imread('multi_face.png')\n",
    "if img is None:\n",
    "    raise ValueError(\"无法读取图像，请检查文件路径。\")\n",
    "\n",
    "# 将图像转换为灰度\n",
    "gray = cv2.cvtColor(img, cv2.COLOR_BGR2GRAY)\n",
    "\n",
    "# 检测人脸\n",
    "faces = detector(gray)\n",
    "\n",
    "# 绘制矩形框\n",
    "for face in faces:\n",
    "    x, y, w, h = (face.left(), face.top(), face.width(), face.height())\n",
    "    cv2.rectangle(img, (x, y), (x+w, y+h), (255, 0, 0), 2)\n",
    "    print('face detected')\n",
    "\n",
    "# 保存结果\n",
    "cv2.imwrite('result.png', img)\n",
    "\n",
    "# 显示图像\n",
    "cv2.imshow('image', img)\n",
    "cv2.waitKey(0)\n",
    "cv2.destroyAllWindows()"
   ]
  },
  {
   "cell_type": "markdown",
   "metadata": {},
   "source": [
    "## 视频检测"
   ]
  },
  {
   "cell_type": "code",
   "execution_count": null,
   "metadata": {},
   "outputs": [
    {
     "name": "stdout",
     "output_type": "stream",
     "text": [
      "faces: [[ 919  249   53   53]\n",
      " [1427  328   56   56]\n",
      " [1136  300   63   63]\n",
      " [ 274  281   57   57]\n",
      " [ 771  252   56   56]\n",
      " [ 590  259   62   62]\n",
      " [1064  261   54   54]\n",
      " [ 770  189   54   54]\n",
      " [ 134  265   54   54]\n",
      " [ 424  263   58   58]\n",
      " [1223  263   64   64]\n",
      " [1027  305   55   55]\n",
      " [ 418  160   51   51]\n",
      " [ 867  304   64   64]\n",
      " [ 500  198   54   54]\n",
      " [1368  269   59   59]\n",
      " [1309  309   58   58]\n",
      " [ 502  312   61   61]\n",
      " [1379  161   55   55]\n",
      " [ 186  317   53   53]\n",
      " [ 673  314   70   70]\n",
      " [ 338  320   63   63]\n",
      " [ 901  162   50   50]\n",
      " [1237  164   47   47]\n",
      " [1000  169   53   53]\n",
      " [ 635  170   55   55]\n",
      " [1323  110   50   50]\n",
      " [ 304  124   50   50]]\n"
     ]
    }
   ],
   "source": [
    "#导入cv2库\n",
    "import cv2\n",
    "\n",
    "#检测函数\n",
    "def detect(img):\n",
    "    #定义人脸识别分类器\n",
    "    face_cascade = cv2.CascadeClassifier('haarcascade_frontalface_default.xml')\n",
    "    #将图片灰度化\n",
    "    gray = cv2.cvtColor(img, cv2.COLOR_BGR2GRAY)\n",
    "    #识别人脸\n",
    "    faces = face_cascade.detectMultiScale(gray, scaleFactor=1.2, minNeighbors=5)\n",
    "    #返回识别结果\n",
    "    return faces\n",
    "    \n",
    "#读取摄像头\n",
    "cap = cv2.VideoCapture(0)\n",
    "\n",
    "\n",
    "#等待\n",
    "while True:\n",
    "    if cv2.waitKey(0) == ord('q'):\n",
    "        break\n",
    "\n",
    "#释放内存\n",
    "cv2.destroyAllWindows()"
   ]
  }
 ],
 "metadata": {
  "kernelspec": {
   "display_name": "base",
   "language": "python",
   "name": "python3"
  },
  "language_info": {
   "codemirror_mode": {
    "name": "ipython",
    "version": 3
   },
   "file_extension": ".py",
   "mimetype": "text/x-python",
   "name": "python",
   "nbconvert_exporter": "python",
   "pygments_lexer": "ipython3",
   "version": "3.12.3"
  }
 },
 "nbformat": 4,
 "nbformat_minor": 2
}
